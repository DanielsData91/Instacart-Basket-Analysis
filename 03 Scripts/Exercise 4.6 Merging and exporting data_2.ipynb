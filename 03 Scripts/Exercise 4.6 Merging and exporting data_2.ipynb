{
 "cells": [
  {
   "cell_type": "markdown",
   "id": "de271adc-349b-411b-b2c6-a596057a57c1",
   "metadata": {},
   "source": [
    "## 4.6 Merging and exporting data_2"
   ]
  },
  {
   "cell_type": "markdown",
   "id": "de4d5291-d47d-4412-ab37-6f448699ce77",
   "metadata": {},
   "source": [
    "### This script contains the following points:\n",
    "\n",
    "#### 1. Import the data\n",
    "#### 2. Merge data\n",
    "#### 3. Exporting the data"
   ]
  },
  {
   "cell_type": "code",
   "execution_count": 1,
   "id": "e843f7ae-f8b0-460b-b331-16f4c8a567ac",
   "metadata": {},
   "outputs": [],
   "source": [
    "# Import libraries\n",
    "\n",
    "import pandas as pd\n",
    "import numpy as np\n",
    "import os"
   ]
  },
  {
   "cell_type": "code",
   "execution_count": 2,
   "id": "b5d0dd1f-73d6-4d8c-b12e-b5c83eee8ba1",
   "metadata": {},
   "outputs": [],
   "source": [
    "#Importing the necessary data sets for the task.\n",
    "#Creating a path for the import of data.\n",
    "path = r'/Users/daniel/Desktop/LEBEN/Data Analyst/Data Analytics Course/Data Immersion/Achievement 4/Master Folder - Instacart Basket Analysis 09.09.2024'"
   ]
  },
  {
   "cell_type": "code",
   "execution_count": 3,
   "id": "9bce30ef-c286-40e8-b9d3-c5ce6f69c52d",
   "metadata": {},
   "outputs": [],
   "source": [
    "#Importing the orders_products_combined data from the prepared data folder\n",
    "df_ords_prods_combined = pd.read_pickle(os.path.join(path, '02 Data', 'Prepared Data', 'orders_products_combined.pkl'))"
   ]
  },
  {
   "cell_type": "markdown",
   "id": "8fdfbb1f-67ba-47f3-a51a-0d56069605a6",
   "metadata": {},
   "source": [
    "#### 2. Merge data"
   ]
  },
  {
   "cell_type": "code",
   "execution_count": 84,
   "id": "2280785f-4563-497d-996f-b8d84c70fa66",
   "metadata": {},
   "outputs": [
    {
     "data": {
      "text/plain": [
       "(32434489, 10)"
      ]
     },
     "execution_count": 84,
     "metadata": {},
     "output_type": "execute_result"
    }
   ],
   "source": [
    "#Check the shape of the dataset and if it is identical to the shape when exported.\n",
    "df_ords_prods_combined.shape"
   ]
  },
  {
   "cell_type": "code",
   "execution_count": 24,
   "id": "bd566453-b084-476a-87c3-33093d72d290",
   "metadata": {},
   "outputs": [],
   "source": [
    "#Importing the products_cleaned data from the prepared data folder\n",
    "df_prods = pd.read_csv(os.path.join(path, '02 Data', 'Prepared Data', 'products_cleaned.csv'), index_col=0)"
   ]
  },
  {
   "cell_type": "code",
   "execution_count": 86,
   "id": "59c5976f-e3db-4d1f-b472-877a8731aea7",
   "metadata": {},
   "outputs": [
    {
     "data": {
      "text/plain": [
       "(49672, 5)"
      ]
     },
     "execution_count": 86,
     "metadata": {},
     "output_type": "execute_result"
    }
   ],
   "source": [
    "#Check if the import was executed correctly\n",
    "df_prods.shape"
   ]
  },
  {
   "cell_type": "code",
   "execution_count": 46,
   "id": "3654c48e-cbeb-4ad8-86a1-96f911d7b8c7",
   "metadata": {},
   "outputs": [],
   "source": [
    "#Rename the indicator column of the previous merge.\n",
    "df_ords_prods_combined.rename(columns={'_merge': 'previous_merge'}, inplace=True)"
   ]
  },
  {
   "cell_type": "code",
   "execution_count": 68,
   "id": "1f51a55c-1986-43f4-8493-36963f7ddfdc",
   "metadata": {},
   "outputs": [],
   "source": [
    "#Merge the two data sets df_ords_prior and df_ords to df_merged_large by using an inner join.\n",
    "df_merged_large = df_ords_prods_combined.merge(df_prods, on = 'product_id', how = 'inner', indicator = True)"
   ]
  },
  {
   "cell_type": "code",
   "execution_count": 74,
   "id": "54e42ad8-e9e0-4417-a16c-2b30122e3185",
   "metadata": {},
   "outputs": [],
   "source": [
    "#Drop the column 'unnamed 0' which is unnecessary for further analysis.\n",
    "df_merged_large = df_merged_large.drop(columns=['previous_merge'])"
   ]
  },
  {
   "cell_type": "code",
   "execution_count": 76,
   "id": "270bed01-791d-4d3e-9065-50825a0af0e0",
   "metadata": {},
   "outputs": [
    {
     "data": {
      "text/plain": [
       "(32404859, 14)"
      ]
     },
     "execution_count": 76,
     "metadata": {},
     "output_type": "execute_result"
    }
   ],
   "source": [
    "#Check the shape of the data frame to confirm the number of rows and columns after merging\n",
    "df_merged_large.shape"
   ]
  },
  {
   "cell_type": "code",
   "execution_count": 78,
   "id": "8176f431-7e0c-4363-86d3-d88308d1abfc",
   "metadata": {},
   "outputs": [
    {
     "data": {
      "text/html": [
       "<div>\n",
       "<style scoped>\n",
       "    .dataframe tbody tr th:only-of-type {\n",
       "        vertical-align: middle;\n",
       "    }\n",
       "\n",
       "    .dataframe tbody tr th {\n",
       "        vertical-align: top;\n",
       "    }\n",
       "\n",
       "    .dataframe thead th {\n",
       "        text-align: right;\n",
       "    }\n",
       "</style>\n",
       "<table border=\"1\" class=\"dataframe\">\n",
       "  <thead>\n",
       "    <tr style=\"text-align: right;\">\n",
       "      <th></th>\n",
       "      <th>order_id</th>\n",
       "      <th>user_id</th>\n",
       "      <th>order_number</th>\n",
       "      <th>orders_day_of_the_week</th>\n",
       "      <th>order_hour_of_day</th>\n",
       "      <th>days_since_last_order</th>\n",
       "      <th>product_id</th>\n",
       "      <th>add_to_cart_order</th>\n",
       "      <th>reordered</th>\n",
       "      <th>product_name</th>\n",
       "      <th>aisle_id</th>\n",
       "      <th>department_id</th>\n",
       "      <th>prices</th>\n",
       "      <th>_merge</th>\n",
       "    </tr>\n",
       "  </thead>\n",
       "  <tbody>\n",
       "    <tr>\n",
       "      <th>0</th>\n",
       "      <td>2539329</td>\n",
       "      <td>1</td>\n",
       "      <td>1</td>\n",
       "      <td>2</td>\n",
       "      <td>8</td>\n",
       "      <td>0.0</td>\n",
       "      <td>196</td>\n",
       "      <td>1</td>\n",
       "      <td>0</td>\n",
       "      <td>Soda</td>\n",
       "      <td>77</td>\n",
       "      <td>7</td>\n",
       "      <td>9.0</td>\n",
       "      <td>both</td>\n",
       "    </tr>\n",
       "    <tr>\n",
       "      <th>1</th>\n",
       "      <td>2539329</td>\n",
       "      <td>1</td>\n",
       "      <td>1</td>\n",
       "      <td>2</td>\n",
       "      <td>8</td>\n",
       "      <td>0.0</td>\n",
       "      <td>14084</td>\n",
       "      <td>2</td>\n",
       "      <td>0</td>\n",
       "      <td>Organic Unsweetened Vanilla Almond Milk</td>\n",
       "      <td>91</td>\n",
       "      <td>16</td>\n",
       "      <td>12.5</td>\n",
       "      <td>both</td>\n",
       "    </tr>\n",
       "    <tr>\n",
       "      <th>2</th>\n",
       "      <td>2539329</td>\n",
       "      <td>1</td>\n",
       "      <td>1</td>\n",
       "      <td>2</td>\n",
       "      <td>8</td>\n",
       "      <td>0.0</td>\n",
       "      <td>12427</td>\n",
       "      <td>3</td>\n",
       "      <td>0</td>\n",
       "      <td>Original Beef Jerky</td>\n",
       "      <td>23</td>\n",
       "      <td>19</td>\n",
       "      <td>4.4</td>\n",
       "      <td>both</td>\n",
       "    </tr>\n",
       "    <tr>\n",
       "      <th>3</th>\n",
       "      <td>2539329</td>\n",
       "      <td>1</td>\n",
       "      <td>1</td>\n",
       "      <td>2</td>\n",
       "      <td>8</td>\n",
       "      <td>0.0</td>\n",
       "      <td>26088</td>\n",
       "      <td>4</td>\n",
       "      <td>0</td>\n",
       "      <td>Aged White Cheddar Popcorn</td>\n",
       "      <td>23</td>\n",
       "      <td>19</td>\n",
       "      <td>4.7</td>\n",
       "      <td>both</td>\n",
       "    </tr>\n",
       "    <tr>\n",
       "      <th>4</th>\n",
       "      <td>2539329</td>\n",
       "      <td>1</td>\n",
       "      <td>1</td>\n",
       "      <td>2</td>\n",
       "      <td>8</td>\n",
       "      <td>0.0</td>\n",
       "      <td>26405</td>\n",
       "      <td>5</td>\n",
       "      <td>0</td>\n",
       "      <td>XL Pick-A-Size Paper Towel Rolls</td>\n",
       "      <td>54</td>\n",
       "      <td>17</td>\n",
       "      <td>1.0</td>\n",
       "      <td>both</td>\n",
       "    </tr>\n",
       "    <tr>\n",
       "      <th>...</th>\n",
       "      <td>...</td>\n",
       "      <td>...</td>\n",
       "      <td>...</td>\n",
       "      <td>...</td>\n",
       "      <td>...</td>\n",
       "      <td>...</td>\n",
       "      <td>...</td>\n",
       "      <td>...</td>\n",
       "      <td>...</td>\n",
       "      <td>...</td>\n",
       "      <td>...</td>\n",
       "      <td>...</td>\n",
       "      <td>...</td>\n",
       "      <td>...</td>\n",
       "    </tr>\n",
       "    <tr>\n",
       "      <th>32404854</th>\n",
       "      <td>2977660</td>\n",
       "      <td>206209</td>\n",
       "      <td>13</td>\n",
       "      <td>1</td>\n",
       "      <td>12</td>\n",
       "      <td>7.0</td>\n",
       "      <td>14197</td>\n",
       "      <td>5</td>\n",
       "      <td>1</td>\n",
       "      <td>Tomato Paste</td>\n",
       "      <td>9</td>\n",
       "      <td>9</td>\n",
       "      <td>5.6</td>\n",
       "      <td>both</td>\n",
       "    </tr>\n",
       "    <tr>\n",
       "      <th>32404855</th>\n",
       "      <td>2977660</td>\n",
       "      <td>206209</td>\n",
       "      <td>13</td>\n",
       "      <td>1</td>\n",
       "      <td>12</td>\n",
       "      <td>7.0</td>\n",
       "      <td>38730</td>\n",
       "      <td>6</td>\n",
       "      <td>0</td>\n",
       "      <td>Brownie Crunch High Protein Bar</td>\n",
       "      <td>3</td>\n",
       "      <td>19</td>\n",
       "      <td>5.9</td>\n",
       "      <td>both</td>\n",
       "    </tr>\n",
       "    <tr>\n",
       "      <th>32404856</th>\n",
       "      <td>2977660</td>\n",
       "      <td>206209</td>\n",
       "      <td>13</td>\n",
       "      <td>1</td>\n",
       "      <td>12</td>\n",
       "      <td>7.0</td>\n",
       "      <td>31477</td>\n",
       "      <td>7</td>\n",
       "      <td>0</td>\n",
       "      <td>High Protein Bar Chunky Peanut Butter</td>\n",
       "      <td>3</td>\n",
       "      <td>19</td>\n",
       "      <td>4.2</td>\n",
       "      <td>both</td>\n",
       "    </tr>\n",
       "    <tr>\n",
       "      <th>32404857</th>\n",
       "      <td>2977660</td>\n",
       "      <td>206209</td>\n",
       "      <td>13</td>\n",
       "      <td>1</td>\n",
       "      <td>12</td>\n",
       "      <td>7.0</td>\n",
       "      <td>6567</td>\n",
       "      <td>8</td>\n",
       "      <td>0</td>\n",
       "      <td>Chocolate Peanut Butter Protein Bar</td>\n",
       "      <td>3</td>\n",
       "      <td>19</td>\n",
       "      <td>4.9</td>\n",
       "      <td>both</td>\n",
       "    </tr>\n",
       "    <tr>\n",
       "      <th>32404858</th>\n",
       "      <td>2977660</td>\n",
       "      <td>206209</td>\n",
       "      <td>13</td>\n",
       "      <td>1</td>\n",
       "      <td>12</td>\n",
       "      <td>7.0</td>\n",
       "      <td>22920</td>\n",
       "      <td>9</td>\n",
       "      <td>0</td>\n",
       "      <td>Roasted &amp; Salted Shelled Pistachios</td>\n",
       "      <td>117</td>\n",
       "      <td>19</td>\n",
       "      <td>1.7</td>\n",
       "      <td>both</td>\n",
       "    </tr>\n",
       "  </tbody>\n",
       "</table>\n",
       "<p>32404859 rows × 14 columns</p>\n",
       "</div>"
      ],
      "text/plain": [
       "          order_id  user_id  order_number  orders_day_of_the_week  \\\n",
       "0          2539329        1             1                       2   \n",
       "1          2539329        1             1                       2   \n",
       "2          2539329        1             1                       2   \n",
       "3          2539329        1             1                       2   \n",
       "4          2539329        1             1                       2   \n",
       "...            ...      ...           ...                     ...   \n",
       "32404854   2977660   206209            13                       1   \n",
       "32404855   2977660   206209            13                       1   \n",
       "32404856   2977660   206209            13                       1   \n",
       "32404857   2977660   206209            13                       1   \n",
       "32404858   2977660   206209            13                       1   \n",
       "\n",
       "          order_hour_of_day  days_since_last_order  product_id  \\\n",
       "0                         8                    0.0         196   \n",
       "1                         8                    0.0       14084   \n",
       "2                         8                    0.0       12427   \n",
       "3                         8                    0.0       26088   \n",
       "4                         8                    0.0       26405   \n",
       "...                     ...                    ...         ...   \n",
       "32404854                 12                    7.0       14197   \n",
       "32404855                 12                    7.0       38730   \n",
       "32404856                 12                    7.0       31477   \n",
       "32404857                 12                    7.0        6567   \n",
       "32404858                 12                    7.0       22920   \n",
       "\n",
       "          add_to_cart_order  reordered  \\\n",
       "0                         1          0   \n",
       "1                         2          0   \n",
       "2                         3          0   \n",
       "3                         4          0   \n",
       "4                         5          0   \n",
       "...                     ...        ...   \n",
       "32404854                  5          1   \n",
       "32404855                  6          0   \n",
       "32404856                  7          0   \n",
       "32404857                  8          0   \n",
       "32404858                  9          0   \n",
       "\n",
       "                                     product_name  aisle_id  department_id  \\\n",
       "0                                            Soda        77              7   \n",
       "1         Organic Unsweetened Vanilla Almond Milk        91             16   \n",
       "2                             Original Beef Jerky        23             19   \n",
       "3                      Aged White Cheddar Popcorn        23             19   \n",
       "4                XL Pick-A-Size Paper Towel Rolls        54             17   \n",
       "...                                           ...       ...            ...   \n",
       "32404854                             Tomato Paste         9              9   \n",
       "32404855          Brownie Crunch High Protein Bar         3             19   \n",
       "32404856    High Protein Bar Chunky Peanut Butter         3             19   \n",
       "32404857      Chocolate Peanut Butter Protein Bar         3             19   \n",
       "32404858      Roasted & Salted Shelled Pistachios       117             19   \n",
       "\n",
       "          prices _merge  \n",
       "0            9.0   both  \n",
       "1           12.5   both  \n",
       "2            4.4   both  \n",
       "3            4.7   both  \n",
       "4            1.0   both  \n",
       "...          ...    ...  \n",
       "32404854     5.6   both  \n",
       "32404855     5.9   both  \n",
       "32404856     4.2   both  \n",
       "32404857     4.9   both  \n",
       "32404858     1.7   both  \n",
       "\n",
       "[32404859 rows x 14 columns]"
      ]
     },
     "execution_count": 78,
     "metadata": {},
     "output_type": "execute_result"
    }
   ],
   "source": [
    "df_merged_large"
   ]
  },
  {
   "cell_type": "code",
   "execution_count": 80,
   "id": "08803c26-f77a-40fa-89a1-e9487182fd00",
   "metadata": {},
   "outputs": [
    {
     "data": {
      "text/plain": [
       "_merge\n",
       "both          32404859\n",
       "left_only            0\n",
       "right_only           0\n",
       "Name: count, dtype: int64"
      ]
     },
     "execution_count": 80,
     "metadata": {},
     "output_type": "execute_result"
    }
   ],
   "source": [
    "df_merged_large['_merge'].value_counts()"
   ]
  },
  {
   "cell_type": "markdown",
   "id": "ee74bbb4-b148-48e7-b958-4212a22ad6de",
   "metadata": {},
   "source": [
    "##### Comment: Due to using an inner join, the output reflects that the key specified exist in both dataframes"
   ]
  },
  {
   "cell_type": "markdown",
   "id": "58ab2a46-ffe3-465d-96ff-f2e0d24240cf",
   "metadata": {},
   "source": [
    "#### 3. Exporting the data"
   ]
  },
  {
   "cell_type": "code",
   "execution_count": 92,
   "id": "9d997e5a-fbab-427b-babf-c316a0411171",
   "metadata": {},
   "outputs": [],
   "source": [
    "#Exporting the merged data frame to a pkl format\n",
    "df_merged_large.to_pickle(os.path.join(path, '02 Data', 'Prepared Data', 'ords_prods_merge.pkl'))"
   ]
  },
  {
   "cell_type": "code",
   "execution_count": null,
   "id": "478ca01e-9b90-4074-ad13-0ada46916d6d",
   "metadata": {},
   "outputs": [],
   "source": []
  }
 ],
 "metadata": {
  "kernelspec": {
   "display_name": "Python 3 (ipykernel)",
   "language": "python",
   "name": "python3"
  },
  "language_info": {
   "codemirror_mode": {
    "name": "ipython",
    "version": 3
   },
   "file_extension": ".py",
   "mimetype": "text/x-python",
   "name": "python",
   "nbconvert_exporter": "python",
   "pygments_lexer": "ipython3",
   "version": "3.12.4"
  }
 },
 "nbformat": 4,
 "nbformat_minor": 5
}
