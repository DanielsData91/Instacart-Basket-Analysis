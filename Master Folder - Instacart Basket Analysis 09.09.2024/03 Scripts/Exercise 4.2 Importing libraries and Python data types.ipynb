{
 "cells": [
  {
   "cell_type": "code",
   "execution_count": 1,
   "id": "71ae887c-fbaf-4156-981a-eacbee1a3bd1",
   "metadata": {},
   "outputs": [],
   "source": [
    "# Import libraries for Achievement 4 of Data Immersion\n",
    "import pandas as pd\n",
    "import numpy as np\n",
    "import os"
   ]
  },
  {
   "cell_type": "code",
   "execution_count": 43,
   "id": "fd32c8a7-156e-4fbe-933a-592e35f1a076",
   "metadata": {},
   "outputs": [
    {
     "data": {
      "text/plain": [
       "100"
      ]
     },
     "execution_count": 43,
     "metadata": {},
     "output_type": "execute_result"
    }
   ],
   "source": [
    "# Way 1 reaching 100\n",
    "x = 65\n",
    "y = 35\n",
    "x + y"
   ]
  },
  {
   "cell_type": "code",
   "execution_count": 49,
   "id": "b6921022-9139-4247-b802-87b3ea09481b",
   "metadata": {},
   "outputs": [
    {
     "data": {
      "text/plain": [
       "100"
      ]
     },
     "execution_count": 49,
     "metadata": {},
     "output_type": "execute_result"
    }
   ],
   "source": [
    "# Way 2 reaching 100\n",
    "x = 200\n",
    "y = 55\n",
    "z = 45\n",
    "\n",
    "x - y - z"
   ]
  },
  {
   "cell_type": "code",
   "execution_count": 63,
   "id": "7c709139-f31f-4fcf-8c6a-fba2640d960d",
   "metadata": {},
   "outputs": [
    {
     "data": {
      "text/plain": [
       "100"
      ]
     },
     "execution_count": 63,
     "metadata": {},
     "output_type": "execute_result"
    }
   ],
   "source": [
    "# Way 3 reaching 100\n",
    "x = 82\n",
    "y = 88\n",
    "z = 70\n",
    "\n",
    "x + y -z"
   ]
  },
  {
   "cell_type": "code",
   "execution_count": 67,
   "id": "2cc85099-0cb1-4156-9b12-c2bfa33eb8f5",
   "metadata": {},
   "outputs": [
    {
     "data": {
      "text/plain": [
       "4.77228525121556"
      ]
     },
     "execution_count": 67,
     "metadata": {},
     "output_type": "execute_result"
    }
   ],
   "source": [
    "# Code 2 floating-point variables and divide them by each other\n",
    "x = 5.889\n",
    "y = 1.234\n",
    "\n",
    "x / y"
   ]
  },
  {
   "cell_type": "code",
   "execution_count": 101,
   "id": "fd8e77b1-2d8f-4f79-8dbf-7c3aba606f08",
   "metadata": {},
   "outputs": [
    {
     "data": {
      "text/plain": [
       "'Python'"
      ]
     },
     "execution_count": 101,
     "metadata": {},
     "output_type": "execute_result"
    }
   ],
   "source": [
    "# Concatenate strings, Word Creation - Short word\n",
    "a = 'P'\n",
    "b = 'y'\n",
    "c = 't'\n",
    "d = 'h'\n",
    "e = 'o'\n",
    "f = 'n'\n",
    "\n",
    "a + b + c + d + e + f"
   ]
  },
  {
   "cell_type": "code",
   "execution_count": 109,
   "id": "220e2bca-1065-4ca6-a92d-a6d7cd6e153c",
   "metadata": {},
   "outputs": [],
   "source": [
    "# Concatenate strings, Word Creation - Short sentences\n",
    "a = 'I like '\n",
    "b = 'to '\n",
    "c = 'learn about '\n",
    "d = 'Python.'\n",
    "\n",
    "result1 = a + b + c + d"
   ]
  },
  {
   "cell_type": "code",
   "execution_count": 122,
   "id": "64c7d405-3fbe-4c65-bbf5-a04d58f92b85",
   "metadata": {},
   "outputs": [],
   "source": [
    "e = 'Because '\n",
    "f = 'Snakes '\n",
    "g = 'are '\n",
    "h = 'interesting.'\n",
    "\n",
    "result2 = e + f + g + h"
   ]
  },
  {
   "cell_type": "code",
   "execution_count": 124,
   "id": "21d77be2-ed42-4913-b47c-668f8d60aeec",
   "metadata": {},
   "outputs": [
    {
     "name": "stdout",
     "output_type": "stream",
     "text": [
      "I like to learn about Python. Because Snakes are interesting.\n"
     ]
    }
   ],
   "source": [
    "final_result = result1 + ' ' + result2\n",
    "print(final_result)"
   ]
  },
  {
   "cell_type": "code",
   "execution_count": 132,
   "id": "e5f5cc83-4b0c-408c-9663-eaf328432c17",
   "metadata": {},
   "outputs": [
    {
     "data": {
      "text/plain": [
       "'BananaBananaBananaBananaBananaBananaBananaBananaBananaBananaBananaBananaBananaBananaBananaBananaBananaBananaBananaBananaBananaBananaBananaBananaBananaBananaBananaBananaBananaBananaBananaBananaBananaBananaBananaBananaBananaBananaBananaBananaBananaBananaBananaBananaBananaBananaBananaBananaBananaBananaBananaBananaBananaBananaBananaBananaBananaBananaBananaBananaBananaBananaBananaBananaBananaBananaBananaBananaBananaBananaBananaBananaBananaBananaBananaBananaBananaBananaBananaBananaBananaBananaBananaBananaBananaBananaBananaBananaBananaBananaBananaBananaBananaBananaBananaBananaBananaBananaBananaBanana'"
      ]
     },
     "execution_count": 132,
     "metadata": {},
     "output_type": "execute_result"
    }
   ],
   "source": [
    "# 100 Bananas in the shop\n",
    "a = 'Banana'\n",
    "a * 100"
   ]
  },
  {
   "cell_type": "code",
   "execution_count": null,
   "id": "a8687c0e-38a5-4ffe-a5c4-5a31210c69d1",
   "metadata": {},
   "outputs": [],
   "source": []
  }
 ],
 "metadata": {
  "kernelspec": {
   "display_name": "Python 3 (ipykernel)",
   "language": "python",
   "name": "python3"
  },
  "language_info": {
   "codemirror_mode": {
    "name": "ipython",
    "version": 3
   },
   "file_extension": ".py",
   "mimetype": "text/x-python",
   "name": "python",
   "nbconvert_exporter": "python",
   "pygments_lexer": "ipython3",
   "version": "3.12.4"
  }
 },
 "nbformat": 4,
 "nbformat_minor": 5
}
